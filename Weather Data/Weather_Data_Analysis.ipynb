{
  "nbformat": 4,
  "nbformat_minor": 0,
  "metadata": {
    "colab": {
      "name": "Weather_Data_Analysis.ipynb",
      "provenance": [],
      "collapsed_sections": []
    },
    "kernelspec": {
      "display_name": "Python 3",
      "name": "python3"
    },
    "language_info": {
      "name": "python"
    }
  },
  "cells": [
    {
      "cell_type": "code",
      "metadata": {
        "id": "-hThL4rCfS8K"
      },
      "source": [
        "from google.colab import files\n",
        "# upload=files.upload()"
      ],
      "execution_count": 1,
      "outputs": []
    },
    {
      "cell_type": "code",
      "metadata": {
        "colab": {
          "base_uri": "https://localhost:8080/"
        },
        "id": "_7MQDgsIcIL7",
        "outputId": "f4960bc2-e983-449b-e109-2510e51b436f"
      },
      "source": [
        "from google.colab import drive\n",
        "drive.mount('/content/drive')"
      ],
      "execution_count": 2,
      "outputs": [
        {
          "output_type": "stream",
          "name": "stdout",
          "text": [
            "Mounted at /content/drive\n"
          ]
        }
      ]
    },
    {
      "cell_type": "code",
      "metadata": {
        "id": "AMoymaPSfg3C"
      },
      "source": [
        "import pandas as pd\n",
        "import numpy as np\n",
        "\n",
        "import matplotlib.pyplot as plt\n",
        "import seaborn as sns"
      ],
      "execution_count": 3,
      "outputs": []
    },
    {
      "cell_type": "code",
      "metadata": {
        "colab": {
          "base_uri": "https://localhost:8080/",
          "height": 203
        },
        "id": "3aOvugpuf5Ra",
        "outputId": "a802663e-b71d-487d-d1b5-0d718aa32e5c"
      },
      "source": [
        "df=pd.read_csv('/content/drive/MyDrive/Dataset/bangladesh---daily-total-rainfall-record-jan-1948-to-june-2014---bangladesh-open-data.csv')\n",
        "df.head()"
      ],
      "execution_count": 4,
      "outputs": [
        {
          "output_type": "execute_result",
          "data": {
            "text/html": [
              "<div>\n",
              "<style scoped>\n",
              "    .dataframe tbody tr th:only-of-type {\n",
              "        vertical-align: middle;\n",
              "    }\n",
              "\n",
              "    .dataframe tbody tr th {\n",
              "        vertical-align: top;\n",
              "    }\n",
              "\n",
              "    .dataframe thead th {\n",
              "        text-align: right;\n",
              "    }\n",
              "</style>\n",
              "<table border=\"1\" class=\"dataframe\">\n",
              "  <thead>\n",
              "    <tr style=\"text-align: right;\">\n",
              "      <th></th>\n",
              "      <th>Station</th>\n",
              "      <th>Year</th>\n",
              "      <th>Month</th>\n",
              "      <th>1</th>\n",
              "      <th>2</th>\n",
              "      <th>3</th>\n",
              "      <th>4</th>\n",
              "      <th>5</th>\n",
              "      <th>6</th>\n",
              "      <th>7</th>\n",
              "      <th>8</th>\n",
              "      <th>9</th>\n",
              "      <th>10</th>\n",
              "      <th>11</th>\n",
              "      <th>12</th>\n",
              "      <th>13</th>\n",
              "      <th>14</th>\n",
              "      <th>15</th>\n",
              "      <th>16</th>\n",
              "      <th>17</th>\n",
              "      <th>18</th>\n",
              "      <th>19</th>\n",
              "      <th>20</th>\n",
              "      <th>21</th>\n",
              "      <th>22</th>\n",
              "      <th>23</th>\n",
              "      <th>24</th>\n",
              "      <th>25</th>\n",
              "      <th>26</th>\n",
              "      <th>27</th>\n",
              "      <th>28</th>\n",
              "      <th>29</th>\n",
              "      <th>30</th>\n",
              "      <th>31</th>\n",
              "    </tr>\n",
              "  </thead>\n",
              "  <tbody>\n",
              "    <tr>\n",
              "      <th>0</th>\n",
              "      <td>Bogra</td>\n",
              "      <td>1948</td>\n",
              "      <td>1</td>\n",
              "      <td>***</td>\n",
              "      <td>***</td>\n",
              "      <td>***</td>\n",
              "      <td>***</td>\n",
              "      <td>***</td>\n",
              "      <td>***</td>\n",
              "      <td>***</td>\n",
              "      <td>*** *</td>\n",
              "      <td>**</td>\n",
              "      <td>***</td>\n",
              "      <td>***</td>\n",
              "      <td>***</td>\n",
              "      <td>***</td>\n",
              "      <td>***</td>\n",
              "      <td>***</td>\n",
              "      <td>***</td>\n",
              "      <td>***</td>\n",
              "      <td>***</td>\n",
              "      <td>***</td>\n",
              "      <td>***</td>\n",
              "      <td>***</td>\n",
              "      <td>***</td>\n",
              "      <td>***</td>\n",
              "      <td>***</td>\n",
              "      <td>***</td>\n",
              "      <td>***</td>\n",
              "      <td>***</td>\n",
              "      <td>***</td>\n",
              "      <td>***</td>\n",
              "      <td>***</td>\n",
              "      <td>***</td>\n",
              "    </tr>\n",
              "    <tr>\n",
              "      <th>1</th>\n",
              "      <td>Bogra</td>\n",
              "      <td>1948</td>\n",
              "      <td>2</td>\n",
              "      <td>0</td>\n",
              "      <td>0</td>\n",
              "      <td>0</td>\n",
              "      <td>4</td>\n",
              "      <td>1</td>\n",
              "      <td>0</td>\n",
              "      <td>0</td>\n",
              "      <td>0</td>\n",
              "      <td>0</td>\n",
              "      <td>0</td>\n",
              "      <td>0</td>\n",
              "      <td>0</td>\n",
              "      <td>0</td>\n",
              "      <td>0</td>\n",
              "      <td>0</td>\n",
              "      <td>0</td>\n",
              "      <td>0</td>\n",
              "      <td>0</td>\n",
              "      <td>0</td>\n",
              "      <td>0</td>\n",
              "      <td>0</td>\n",
              "      <td>0</td>\n",
              "      <td>0</td>\n",
              "      <td>0</td>\n",
              "      <td>0</td>\n",
              "      <td>0</td>\n",
              "      <td>0</td>\n",
              "      <td>0</td>\n",
              "      <td>0</td>\n",
              "      <td>NaN</td>\n",
              "      <td>NaN</td>\n",
              "    </tr>\n",
              "    <tr>\n",
              "      <th>2</th>\n",
              "      <td>Bogra</td>\n",
              "      <td>1948</td>\n",
              "      <td>3</td>\n",
              "      <td>0</td>\n",
              "      <td>0</td>\n",
              "      <td>0</td>\n",
              "      <td>0</td>\n",
              "      <td>0</td>\n",
              "      <td>0</td>\n",
              "      <td>0</td>\n",
              "      <td>0</td>\n",
              "      <td>0</td>\n",
              "      <td>0</td>\n",
              "      <td>0</td>\n",
              "      <td>0</td>\n",
              "      <td>0</td>\n",
              "      <td>0</td>\n",
              "      <td>2</td>\n",
              "      <td>1</td>\n",
              "      <td>0</td>\n",
              "      <td>0</td>\n",
              "      <td>0</td>\n",
              "      <td>0</td>\n",
              "      <td>0</td>\n",
              "      <td>0</td>\n",
              "      <td>0</td>\n",
              "      <td>0</td>\n",
              "      <td>0</td>\n",
              "      <td>0</td>\n",
              "      <td>0</td>\n",
              "      <td>0</td>\n",
              "      <td>0</td>\n",
              "      <td>0</td>\n",
              "      <td>0</td>\n",
              "    </tr>\n",
              "    <tr>\n",
              "      <th>3</th>\n",
              "      <td>Bogra</td>\n",
              "      <td>1948</td>\n",
              "      <td>4</td>\n",
              "      <td>0</td>\n",
              "      <td>0</td>\n",
              "      <td>0</td>\n",
              "      <td>0</td>\n",
              "      <td>7</td>\n",
              "      <td>0</td>\n",
              "      <td>0</td>\n",
              "      <td>0</td>\n",
              "      <td>0</td>\n",
              "      <td>0</td>\n",
              "      <td>0</td>\n",
              "      <td>0</td>\n",
              "      <td>0</td>\n",
              "      <td>0</td>\n",
              "      <td>0</td>\n",
              "      <td>0</td>\n",
              "      <td>41</td>\n",
              "      <td>3</td>\n",
              "      <td>20</td>\n",
              "      <td>0</td>\n",
              "      <td>21</td>\n",
              "      <td>0</td>\n",
              "      <td>0</td>\n",
              "      <td>0</td>\n",
              "      <td>0</td>\n",
              "      <td>0</td>\n",
              "      <td>0</td>\n",
              "      <td>0</td>\n",
              "      <td>0</td>\n",
              "      <td>18</td>\n",
              "      <td>NaN</td>\n",
              "    </tr>\n",
              "    <tr>\n",
              "      <th>4</th>\n",
              "      <td>Bogra</td>\n",
              "      <td>1948</td>\n",
              "      <td>5</td>\n",
              "      <td>0</td>\n",
              "      <td>24</td>\n",
              "      <td>0</td>\n",
              "      <td>0</td>\n",
              "      <td>0</td>\n",
              "      <td>0</td>\n",
              "      <td>0</td>\n",
              "      <td>0</td>\n",
              "      <td>2</td>\n",
              "      <td>5</td>\n",
              "      <td>8</td>\n",
              "      <td>0</td>\n",
              "      <td>0</td>\n",
              "      <td>14</td>\n",
              "      <td>0</td>\n",
              "      <td>9</td>\n",
              "      <td>65</td>\n",
              "      <td>0</td>\n",
              "      <td>55</td>\n",
              "      <td>0</td>\n",
              "      <td>21</td>\n",
              "      <td>9</td>\n",
              "      <td>7</td>\n",
              "      <td>24</td>\n",
              "      <td>31</td>\n",
              "      <td>14</td>\n",
              "      <td>0</td>\n",
              "      <td>1</td>\n",
              "      <td>8</td>\n",
              "      <td>0</td>\n",
              "      <td>0</td>\n",
              "    </tr>\n",
              "  </tbody>\n",
              "</table>\n",
              "</div>"
            ],
            "text/plain": [
              "  Station  Year  Month    1    2    3    4  ...   25   26   27   28   29   30   31\n",
              "0   Bogra  1948      1  ***  ***  ***  ***  ...  ***  ***  ***  ***  ***  ***  ***\n",
              "1   Bogra  1948      2    0    0    0    4  ...    0    0    0    0    0  NaN  NaN\n",
              "2   Bogra  1948      3    0    0    0    0  ...    0    0    0    0    0    0    0\n",
              "3   Bogra  1948      4    0    0    0    0  ...    0    0    0    0    0   18  NaN\n",
              "4   Bogra  1948      5    0   24    0    0  ...   31   14    0    1    8    0    0\n",
              "\n",
              "[5 rows x 34 columns]"
            ]
          },
          "metadata": {},
          "execution_count": 4
        }
      ]
    },
    {
      "cell_type": "code",
      "metadata": {
        "colab": {
          "base_uri": "https://localhost:8080/"
        },
        "id": "_ZOMGvnwgHNI",
        "outputId": "feff7d0a-fc6b-45c6-d0f1-95ca8ac008cc"
      },
      "source": [
        "df.info()"
      ],
      "execution_count": 5,
      "outputs": [
        {
          "output_type": "stream",
          "name": "stdout",
          "text": [
            "<class 'pandas.core.frame.DataFrame'>\n",
            "RangeIndex: 20778 entries, 0 to 20777\n",
            "Data columns (total 34 columns):\n",
            " #   Column   Non-Null Count  Dtype \n",
            "---  ------   --------------  ----- \n",
            " 0   Station  20778 non-null  object\n",
            " 1   Year     20778 non-null  int64 \n",
            " 2   Month    20778 non-null  int64 \n",
            " 3   1        20778 non-null  object\n",
            " 4   2        20778 non-null  object\n",
            " 5   3        20778 non-null  object\n",
            " 6   4        20778 non-null  object\n",
            " 7   5        20778 non-null  object\n",
            " 8   6        20778 non-null  object\n",
            " 9   7        20778 non-null  object\n",
            " 10  8        20778 non-null  object\n",
            " 11  9        20778 non-null  object\n",
            " 12  10       20778 non-null  object\n",
            " 13  11       20778 non-null  object\n",
            " 14  12       20778 non-null  object\n",
            " 15  13       20778 non-null  object\n",
            " 16  14       20778 non-null  object\n",
            " 17  15       20778 non-null  object\n",
            " 18  16       20778 non-null  object\n",
            " 19  17       20778 non-null  object\n",
            " 20  18       20778 non-null  object\n",
            " 21  19       20778 non-null  object\n",
            " 22  20       20778 non-null  object\n",
            " 23  21       20778 non-null  object\n",
            " 24  22       20778 non-null  object\n",
            " 25  23       20778 non-null  object\n",
            " 26  24       20778 non-null  object\n",
            " 27  25       20778 non-null  object\n",
            " 28  26       20778 non-null  object\n",
            " 29  27       20778 non-null  object\n",
            " 30  28       20778 non-null  object\n",
            " 31  29       19461 non-null  object\n",
            " 32  30       19029 non-null  object\n",
            " 33  31       12103 non-null  object\n",
            "dtypes: int64(2), object(32)\n",
            "memory usage: 5.4+ MB\n"
          ]
        }
      ]
    },
    {
      "cell_type": "code",
      "metadata": {
        "colab": {
          "base_uri": "https://localhost:8080/"
        },
        "id": "CAriD4Wq093U",
        "outputId": "1f084e30-c753-4866-984d-c43486beab72"
      },
      "source": [
        "df.isnull().sum()"
      ],
      "execution_count": 6,
      "outputs": [
        {
          "output_type": "execute_result",
          "data": {
            "text/plain": [
              "Station       0\n",
              "Year          0\n",
              "Month         0\n",
              "1             0\n",
              "2             0\n",
              "3             0\n",
              "4             0\n",
              "5             0\n",
              "6             0\n",
              "7             0\n",
              "8             0\n",
              "9             0\n",
              "10            0\n",
              "11            0\n",
              "12            0\n",
              "13            0\n",
              "14            0\n",
              "15            0\n",
              "16            0\n",
              "17            0\n",
              "18            0\n",
              "19            0\n",
              "20            0\n",
              "21            0\n",
              "22            0\n",
              "23            0\n",
              "24            0\n",
              "25            0\n",
              "26            0\n",
              "27            0\n",
              "28            0\n",
              "29         1317\n",
              "30         1749\n",
              "31         8675\n",
              "dtype: int64"
            ]
          },
          "metadata": {},
          "execution_count": 6
        }
      ]
    },
    {
      "cell_type": "markdown",
      "metadata": {
        "id": "wrKG0aeldnt8"
      },
      "source": [
        "**No Null value in this dataset**"
      ]
    },
    {
      "cell_type": "code",
      "metadata": {
        "colab": {
          "base_uri": "https://localhost:8080/",
          "height": 147
        },
        "id": "4Dmvzp7jlsrE",
        "outputId": "65bf2bee-f9bf-470d-a926-30d6d5f895d6"
      },
      "source": [
        "df['YearMonth']=df['Year'].astype(str) +str('-') +df['Month'].astype(str)\n",
        "df.head(2)\n"
      ],
      "execution_count": 7,
      "outputs": [
        {
          "output_type": "execute_result",
          "data": {
            "text/html": [
              "<div>\n",
              "<style scoped>\n",
              "    .dataframe tbody tr th:only-of-type {\n",
              "        vertical-align: middle;\n",
              "    }\n",
              "\n",
              "    .dataframe tbody tr th {\n",
              "        vertical-align: top;\n",
              "    }\n",
              "\n",
              "    .dataframe thead th {\n",
              "        text-align: right;\n",
              "    }\n",
              "</style>\n",
              "<table border=\"1\" class=\"dataframe\">\n",
              "  <thead>\n",
              "    <tr style=\"text-align: right;\">\n",
              "      <th></th>\n",
              "      <th>Station</th>\n",
              "      <th>Year</th>\n",
              "      <th>Month</th>\n",
              "      <th>1</th>\n",
              "      <th>2</th>\n",
              "      <th>3</th>\n",
              "      <th>4</th>\n",
              "      <th>5</th>\n",
              "      <th>6</th>\n",
              "      <th>7</th>\n",
              "      <th>8</th>\n",
              "      <th>9</th>\n",
              "      <th>10</th>\n",
              "      <th>11</th>\n",
              "      <th>12</th>\n",
              "      <th>13</th>\n",
              "      <th>14</th>\n",
              "      <th>15</th>\n",
              "      <th>16</th>\n",
              "      <th>17</th>\n",
              "      <th>18</th>\n",
              "      <th>19</th>\n",
              "      <th>20</th>\n",
              "      <th>21</th>\n",
              "      <th>22</th>\n",
              "      <th>23</th>\n",
              "      <th>24</th>\n",
              "      <th>25</th>\n",
              "      <th>26</th>\n",
              "      <th>27</th>\n",
              "      <th>28</th>\n",
              "      <th>29</th>\n",
              "      <th>30</th>\n",
              "      <th>31</th>\n",
              "      <th>YearMonth</th>\n",
              "    </tr>\n",
              "  </thead>\n",
              "  <tbody>\n",
              "    <tr>\n",
              "      <th>0</th>\n",
              "      <td>Bogra</td>\n",
              "      <td>1948</td>\n",
              "      <td>1</td>\n",
              "      <td>***</td>\n",
              "      <td>***</td>\n",
              "      <td>***</td>\n",
              "      <td>***</td>\n",
              "      <td>***</td>\n",
              "      <td>***</td>\n",
              "      <td>***</td>\n",
              "      <td>*** *</td>\n",
              "      <td>**</td>\n",
              "      <td>***</td>\n",
              "      <td>***</td>\n",
              "      <td>***</td>\n",
              "      <td>***</td>\n",
              "      <td>***</td>\n",
              "      <td>***</td>\n",
              "      <td>***</td>\n",
              "      <td>***</td>\n",
              "      <td>***</td>\n",
              "      <td>***</td>\n",
              "      <td>***</td>\n",
              "      <td>***</td>\n",
              "      <td>***</td>\n",
              "      <td>***</td>\n",
              "      <td>***</td>\n",
              "      <td>***</td>\n",
              "      <td>***</td>\n",
              "      <td>***</td>\n",
              "      <td>***</td>\n",
              "      <td>***</td>\n",
              "      <td>***</td>\n",
              "      <td>***</td>\n",
              "      <td>1948-1</td>\n",
              "    </tr>\n",
              "    <tr>\n",
              "      <th>1</th>\n",
              "      <td>Bogra</td>\n",
              "      <td>1948</td>\n",
              "      <td>2</td>\n",
              "      <td>0</td>\n",
              "      <td>0</td>\n",
              "      <td>0</td>\n",
              "      <td>4</td>\n",
              "      <td>1</td>\n",
              "      <td>0</td>\n",
              "      <td>0</td>\n",
              "      <td>0</td>\n",
              "      <td>0</td>\n",
              "      <td>0</td>\n",
              "      <td>0</td>\n",
              "      <td>0</td>\n",
              "      <td>0</td>\n",
              "      <td>0</td>\n",
              "      <td>0</td>\n",
              "      <td>0</td>\n",
              "      <td>0</td>\n",
              "      <td>0</td>\n",
              "      <td>0</td>\n",
              "      <td>0</td>\n",
              "      <td>0</td>\n",
              "      <td>0</td>\n",
              "      <td>0</td>\n",
              "      <td>0</td>\n",
              "      <td>0</td>\n",
              "      <td>0</td>\n",
              "      <td>0</td>\n",
              "      <td>0</td>\n",
              "      <td>0</td>\n",
              "      <td>NaN</td>\n",
              "      <td>NaN</td>\n",
              "      <td>1948-2</td>\n",
              "    </tr>\n",
              "  </tbody>\n",
              "</table>\n",
              "</div>"
            ],
            "text/plain": [
              "  Station  Year  Month    1    2    3  ...   27   28   29   30   31 YearMonth\n",
              "0   Bogra  1948      1  ***  ***  ***  ...  ***  ***  ***  ***  ***    1948-1\n",
              "1   Bogra  1948      2    0    0    0  ...    0    0    0  NaN  NaN    1948-2\n",
              "\n",
              "[2 rows x 35 columns]"
            ]
          },
          "metadata": {},
          "execution_count": 7
        }
      ]
    },
    {
      "cell_type": "markdown",
      "metadata": {
        "id": "UnulBGSodw2w"
      },
      "source": [
        "Make YearMonth new column from Year and Month"
      ]
    },
    {
      "cell_type": "code",
      "metadata": {
        "id": "hZbp1ASQs_sc"
      },
      "source": [
        "# date=df[['1','2','3','4','5','6','7','8','9','10','11','12','13','14','15','16','17','18','19','20','21','22','23','24','25','26','27','28','29','30','31']]\n",
        "df['1']=pd.to_numeric(df['1'], errors='coerce')\n",
        "df['2']=pd.to_numeric(df['2'], errors='coerce')\n",
        "df['3']=pd.to_numeric(df['3'], errors='coerce')\n",
        "df['4']=pd.to_numeric(df['4'], errors='coerce')\n",
        "df['5']=pd.to_numeric(df['5'], errors='coerce')\n",
        "df['6']=pd.to_numeric(df['6'], errors='coerce')\n",
        "df['7']=pd.to_numeric(df['7'], errors='coerce')\n",
        "df['8']=pd.to_numeric(df['8'], errors='coerce')\n",
        "df['9']=pd.to_numeric(df['9'], errors='coerce')\n",
        "df['10']=pd.to_numeric(df['10'], errors='coerce')\n",
        "df['11']=pd.to_numeric(df['1'], errors='coerce')\n",
        "df['12']=pd.to_numeric(df['12'], errors='coerce')\n",
        "df['13']=pd.to_numeric(df['13'], errors='coerce')\n",
        "df['14']=pd.to_numeric(df['14'], errors='coerce')\n",
        "df['15']=pd.to_numeric(df['15'], errors='coerce')\n",
        "df['16']=pd.to_numeric(df['16'], errors='coerce')\n",
        "df['17']=pd.to_numeric(df['17'], errors='coerce')\n",
        "df['18']=pd.to_numeric(df['18'], errors='coerce')\n",
        "df['19']=pd.to_numeric(df['19'], errors='coerce')\n",
        "df['20']=pd.to_numeric(df['20'], errors='coerce')\n",
        "df['21']=pd.to_numeric(df['21'], errors='coerce')\n",
        "df['22']=pd.to_numeric(df['22'], errors='coerce')\n",
        "df['23']=pd.to_numeric(df['23'], errors='coerce')\n",
        "df['24']=pd.to_numeric(df['24'], errors='coerce')\n",
        "df['25']=pd.to_numeric(df['25'], errors='coerce')\n",
        "df['26']=pd.to_numeric(df['26'], errors='coerce')\n",
        "df['27']=pd.to_numeric(df['27'], errors='coerce')\n",
        "df['28']=pd.to_numeric(df['28'], errors='coerce')\n",
        "df['29']=pd.to_numeric(df['29'], errors='coerce')\n",
        "df['30']=pd.to_numeric(df['30'], errors='coerce')\n",
        "df['31']=pd.to_numeric(df['31'], errors='coerce')"
      ],
      "execution_count": 8,
      "outputs": []
    },
    {
      "cell_type": "markdown",
      "metadata": {
        "id": "9YTBG2ByehDX"
      },
      "source": [
        "Convert object type data to numeric data◀"
      ]
    },
    {
      "cell_type": "code",
      "metadata": {
        "colab": {
          "base_uri": "https://localhost:8080/",
          "height": 142
        },
        "id": "Axzz93wB1foC",
        "outputId": "c7e42cad-8668-4bd3-ff8b-950f360c7a3b"
      },
      "source": [
        "df[['Year','Month','YearMonth']].sample(3)"
      ],
      "execution_count": 9,
      "outputs": [
        {
          "output_type": "execute_result",
          "data": {
            "text/html": [
              "<div>\n",
              "<style scoped>\n",
              "    .dataframe tbody tr th:only-of-type {\n",
              "        vertical-align: middle;\n",
              "    }\n",
              "\n",
              "    .dataframe tbody tr th {\n",
              "        vertical-align: top;\n",
              "    }\n",
              "\n",
              "    .dataframe thead th {\n",
              "        text-align: right;\n",
              "    }\n",
              "</style>\n",
              "<table border=\"1\" class=\"dataframe\">\n",
              "  <thead>\n",
              "    <tr style=\"text-align: right;\">\n",
              "      <th></th>\n",
              "      <th>Year</th>\n",
              "      <th>Month</th>\n",
              "      <th>YearMonth</th>\n",
              "    </tr>\n",
              "  </thead>\n",
              "  <tbody>\n",
              "    <tr>\n",
              "      <th>4902</th>\n",
              "      <td>1972</td>\n",
              "      <td>7</td>\n",
              "      <td>1972-7</td>\n",
              "    </tr>\n",
              "    <tr>\n",
              "      <th>12413</th>\n",
              "      <td>1994</td>\n",
              "      <td>6</td>\n",
              "      <td>1994-6</td>\n",
              "    </tr>\n",
              "    <tr>\n",
              "      <th>15971</th>\n",
              "      <td>2002</td>\n",
              "      <td>12</td>\n",
              "      <td>2002-12</td>\n",
              "    </tr>\n",
              "  </tbody>\n",
              "</table>\n",
              "</div>"
            ],
            "text/plain": [
              "       Year  Month YearMonth\n",
              "4902   1972      7    1972-7\n",
              "12413  1994      6    1994-6\n",
              "15971  2002     12   2002-12"
            ]
          },
          "metadata": {},
          "execution_count": 9
        }
      ]
    },
    {
      "cell_type": "code",
      "metadata": {
        "id": "8p5Lu8lG5f4L",
        "colab": {
          "base_uri": "https://localhost:8080/",
          "height": 203
        },
        "outputId": "c53e44f6-3098-4a0f-c419-3f560b330aaf"
      },
      "source": [
        "day=df.loc[:,'1':'31']\n",
        "# data['day']=date.iloc[[1]]\n",
        "df['TotalRainfall']=day.sum(axis=1)\n",
        "\n",
        "df[['Station','YearMonth','TotalRainfall']].sample(5)"
      ],
      "execution_count": 10,
      "outputs": [
        {
          "output_type": "execute_result",
          "data": {
            "text/html": [
              "<div>\n",
              "<style scoped>\n",
              "    .dataframe tbody tr th:only-of-type {\n",
              "        vertical-align: middle;\n",
              "    }\n",
              "\n",
              "    .dataframe tbody tr th {\n",
              "        vertical-align: top;\n",
              "    }\n",
              "\n",
              "    .dataframe thead th {\n",
              "        text-align: right;\n",
              "    }\n",
              "</style>\n",
              "<table border=\"1\" class=\"dataframe\">\n",
              "  <thead>\n",
              "    <tr style=\"text-align: right;\">\n",
              "      <th></th>\n",
              "      <th>Station</th>\n",
              "      <th>YearMonth</th>\n",
              "      <th>TotalRainfall</th>\n",
              "    </tr>\n",
              "  </thead>\n",
              "  <tbody>\n",
              "    <tr>\n",
              "      <th>6599</th>\n",
              "      <td>Chittagong</td>\n",
              "      <td>1978-12</td>\n",
              "      <td>0.0</td>\n",
              "    </tr>\n",
              "    <tr>\n",
              "      <th>1292</th>\n",
              "      <td>Faridpur</td>\n",
              "      <td>1956-9</td>\n",
              "      <td>293.0</td>\n",
              "    </tr>\n",
              "    <tr>\n",
              "      <th>14840</th>\n",
              "      <td>Comilla</td>\n",
              "      <td>2000-9</td>\n",
              "      <td>117.0</td>\n",
              "    </tr>\n",
              "    <tr>\n",
              "      <th>16002</th>\n",
              "      <td>Teknaf</td>\n",
              "      <td>2002-7</td>\n",
              "      <td>1136.0</td>\n",
              "    </tr>\n",
              "    <tr>\n",
              "      <th>483</th>\n",
              "      <td>Jessore</td>\n",
              "      <td>1951-4</td>\n",
              "      <td>19.0</td>\n",
              "    </tr>\n",
              "  </tbody>\n",
              "</table>\n",
              "</div>"
            ],
            "text/plain": [
              "          Station YearMonth  TotalRainfall\n",
              "6599   Chittagong   1978-12            0.0\n",
              "1292     Faridpur    1956-9          293.0\n",
              "14840     Comilla    2000-9          117.0\n",
              "16002      Teknaf    2002-7         1136.0\n",
              "483       Jessore    1951-4           19.0"
            ]
          },
          "metadata": {},
          "execution_count": 10
        }
      ]
    },
    {
      "cell_type": "markdown",
      "metadata": {
        "id": "op7bZLj0fvv4"
      },
      "source": [
        "Sum of each month rainfall"
      ]
    },
    {
      "cell_type": "code",
      "metadata": {
        "colab": {
          "base_uri": "https://localhost:8080/"
        },
        "id": "-i4wYFNcFvkM",
        "outputId": "56880f5a-fa4a-4d44-fd1a-022c6c15e680"
      },
      "source": [
        "YearMonth=list(df['YearMonth'].values)\n",
        "len(YearMonth)"
      ],
      "execution_count": 11,
      "outputs": [
        {
          "output_type": "execute_result",
          "data": {
            "text/plain": [
              "20778"
            ]
          },
          "metadata": {},
          "execution_count": 11
        }
      ]
    },
    {
      "cell_type": "code",
      "metadata": {
        "id": "dZkMr_RlNe31"
      },
      "source": [
        "data=df[['Station','YearMonth','TotalRainfall']]"
      ],
      "execution_count": 12,
      "outputs": []
    },
    {
      "cell_type": "code",
      "metadata": {
        "colab": {
          "base_uri": "https://localhost:8080/",
          "height": 203
        },
        "id": "3GzlXqC8Nxeu",
        "outputId": "1bd28aa2-1552-447e-f21f-59a1634491ea"
      },
      "source": [
        "data.head()"
      ],
      "execution_count": 13,
      "outputs": [
        {
          "output_type": "execute_result",
          "data": {
            "text/html": [
              "<div>\n",
              "<style scoped>\n",
              "    .dataframe tbody tr th:only-of-type {\n",
              "        vertical-align: middle;\n",
              "    }\n",
              "\n",
              "    .dataframe tbody tr th {\n",
              "        vertical-align: top;\n",
              "    }\n",
              "\n",
              "    .dataframe thead th {\n",
              "        text-align: right;\n",
              "    }\n",
              "</style>\n",
              "<table border=\"1\" class=\"dataframe\">\n",
              "  <thead>\n",
              "    <tr style=\"text-align: right;\">\n",
              "      <th></th>\n",
              "      <th>Station</th>\n",
              "      <th>YearMonth</th>\n",
              "      <th>TotalRainfall</th>\n",
              "    </tr>\n",
              "  </thead>\n",
              "  <tbody>\n",
              "    <tr>\n",
              "      <th>0</th>\n",
              "      <td>Bogra</td>\n",
              "      <td>1948-1</td>\n",
              "      <td>0.0</td>\n",
              "    </tr>\n",
              "    <tr>\n",
              "      <th>1</th>\n",
              "      <td>Bogra</td>\n",
              "      <td>1948-2</td>\n",
              "      <td>5.0</td>\n",
              "    </tr>\n",
              "    <tr>\n",
              "      <th>2</th>\n",
              "      <td>Bogra</td>\n",
              "      <td>1948-3</td>\n",
              "      <td>3.0</td>\n",
              "    </tr>\n",
              "    <tr>\n",
              "      <th>3</th>\n",
              "      <td>Bogra</td>\n",
              "      <td>1948-4</td>\n",
              "      <td>110.0</td>\n",
              "    </tr>\n",
              "    <tr>\n",
              "      <th>4</th>\n",
              "      <td>Bogra</td>\n",
              "      <td>1948-5</td>\n",
              "      <td>289.0</td>\n",
              "    </tr>\n",
              "  </tbody>\n",
              "</table>\n",
              "</div>"
            ],
            "text/plain": [
              "  Station YearMonth  TotalRainfall\n",
              "0   Bogra    1948-1            0.0\n",
              "1   Bogra    1948-2            5.0\n",
              "2   Bogra    1948-3            3.0\n",
              "3   Bogra    1948-4          110.0\n",
              "4   Bogra    1948-5          289.0"
            ]
          },
          "metadata": {},
          "execution_count": 13
        }
      ]
    },
    {
      "cell_type": "code",
      "metadata": {
        "colab": {
          "base_uri": "https://localhost:8080/"
        },
        "id": "13QhJNHXNzT3",
        "outputId": "ae9314cb-9ec3-425c-afb9-607a2a018ee4"
      },
      "source": [
        "data.isnull().sum()"
      ],
      "execution_count": 14,
      "outputs": [
        {
          "output_type": "execute_result",
          "data": {
            "text/plain": [
              "Station          0\n",
              "YearMonth        0\n",
              "TotalRainfall    0\n",
              "dtype: int64"
            ]
          },
          "metadata": {},
          "execution_count": 14
        }
      ]
    },
    {
      "cell_type": "code",
      "metadata": {
        "colab": {
          "base_uri": "https://localhost:8080/",
          "height": 295
        },
        "id": "K72hqOwqjKZ_",
        "outputId": "16e91733-4508-4804-cce7-fd2d46110664"
      },
      "source": [
        "data.describe()"
      ],
      "execution_count": 15,
      "outputs": [
        {
          "output_type": "execute_result",
          "data": {
            "text/html": [
              "<div>\n",
              "<style scoped>\n",
              "    .dataframe tbody tr th:only-of-type {\n",
              "        vertical-align: middle;\n",
              "    }\n",
              "\n",
              "    .dataframe tbody tr th {\n",
              "        vertical-align: top;\n",
              "    }\n",
              "\n",
              "    .dataframe thead th {\n",
              "        text-align: right;\n",
              "    }\n",
              "</style>\n",
              "<table border=\"1\" class=\"dataframe\">\n",
              "  <thead>\n",
              "    <tr style=\"text-align: right;\">\n",
              "      <th></th>\n",
              "      <th>TotalRainfall</th>\n",
              "    </tr>\n",
              "  </thead>\n",
              "  <tbody>\n",
              "    <tr>\n",
              "      <th>count</th>\n",
              "      <td>20778.000000</td>\n",
              "    </tr>\n",
              "    <tr>\n",
              "      <th>mean</th>\n",
              "      <td>193.536337</td>\n",
              "    </tr>\n",
              "    <tr>\n",
              "      <th>std</th>\n",
              "      <td>240.951782</td>\n",
              "    </tr>\n",
              "    <tr>\n",
              "      <th>min</th>\n",
              "      <td>0.000000</td>\n",
              "    </tr>\n",
              "    <tr>\n",
              "      <th>25%</th>\n",
              "      <td>5.000000</td>\n",
              "    </tr>\n",
              "    <tr>\n",
              "      <th>50%</th>\n",
              "      <td>102.000000</td>\n",
              "    </tr>\n",
              "    <tr>\n",
              "      <th>75%</th>\n",
              "      <td>301.000000</td>\n",
              "    </tr>\n",
              "    <tr>\n",
              "      <th>max</th>\n",
              "      <td>3002.000000</td>\n",
              "    </tr>\n",
              "  </tbody>\n",
              "</table>\n",
              "</div>"
            ],
            "text/plain": [
              "       TotalRainfall\n",
              "count   20778.000000\n",
              "mean      193.536337\n",
              "std       240.951782\n",
              "min         0.000000\n",
              "25%         5.000000\n",
              "50%       102.000000\n",
              "75%       301.000000\n",
              "max      3002.000000"
            ]
          },
          "metadata": {},
          "execution_count": 15
        }
      ]
    },
    {
      "cell_type": "markdown",
      "metadata": {
        "id": "vlxkN3fLOluE"
      },
      "source": [
        "No null values"
      ]
    },
    {
      "cell_type": "code",
      "metadata": {
        "colab": {
          "base_uri": "https://localhost:8080/"
        },
        "id": "O5jxOlGTp6z0",
        "outputId": "dcff3799-2da1-4435-f2ee-278f5429a095"
      },
      "source": [
        "data.dtypes"
      ],
      "execution_count": 16,
      "outputs": [
        {
          "output_type": "execute_result",
          "data": {
            "text/plain": [
              "Station           object\n",
              "YearMonth         object\n",
              "TotalRainfall    float64\n",
              "dtype: object"
            ]
          },
          "metadata": {},
          "execution_count": 16
        }
      ]
    },
    {
      "cell_type": "markdown",
      "metadata": {
        "id": "evy9tQLlrTEc"
      },
      "source": [
        "### All unique Station"
      ]
    },
    {
      "cell_type": "code",
      "metadata": {
        "colab": {
          "base_uri": "https://localhost:8080/"
        },
        "id": "xbXJlgyEqfrS",
        "outputId": "508017dc-cfaa-46dd-f6b8-8367aa33f4bc"
      },
      "source": [
        "DistrictName=data['Station'].unique()\n",
        "print(DistrictName)\n",
        "print('\\n\\n')\n",
        "print('Length of all unique station =', len(DistrictName))"
      ],
      "execution_count": 17,
      "outputs": [
        {
          "output_type": "stream",
          "name": "stdout",
          "text": [
            "['Bogra' 'Comilla' \"Cox's Bazar\" 'Dinajpur' 'Faridpur' 'Jessore' 'Khulna'\n",
            " 'Mymensingh' 'Satkhira' 'Srimangal' 'Barisal' 'Chittagong' 'M.court'\n",
            " 'Dhaka' 'Rangpur' 'Sylhet' 'Rangamati' 'Ishurdi' 'Chandpur' 'Rajshahi'\n",
            " 'Bhola' 'Hatiya' 'Sandwip' 'Feni' 'Patuakhali' 'Khepupara' 'Kutubdia'\n",
            " 'Madaripur' 'Sitakunda' 'Teknaf' 'Tangail' 'chuadanga' 'Mongla' 'sydpur'\n",
            " 'Ambagan(Ctg)']\n",
            "\n",
            "\n",
            "\n",
            "Length of all unique station = 35\n"
          ]
        }
      ]
    },
    {
      "cell_type": "markdown",
      "metadata": {
        "id": "c8a6lw3tts45"
      },
      "source": [
        "### Find all the unique value in data"
      ]
    },
    {
      "cell_type": "code",
      "metadata": {
        "colab": {
          "base_uri": "https://localhost:8080/"
        },
        "id": "3_UR0ku-syTm",
        "outputId": "0da410df-aff6-4799-ccd2-ee81fb5b85d0"
      },
      "source": [
        "data.nunique()"
      ],
      "execution_count": 18,
      "outputs": [
        {
          "output_type": "execute_result",
          "data": {
            "text/plain": [
              "Station            35\n",
              "YearMonth         798\n",
              "TotalRainfall    1145\n",
              "dtype: int64"
            ]
          },
          "metadata": {},
          "execution_count": 18
        }
      ]
    },
    {
      "cell_type": "code",
      "metadata": {
        "colab": {
          "base_uri": "https://localhost:8080/"
        },
        "id": "Nya6mgrlsyQK",
        "outputId": "347ca732-e46b-4e9a-cc05-0e6f43ebc423"
      },
      "source": [
        "data.count()"
      ],
      "execution_count": 19,
      "outputs": [
        {
          "output_type": "execute_result",
          "data": {
            "text/plain": [
              "Station          20778\n",
              "YearMonth        20778\n",
              "TotalRainfall    20778\n",
              "dtype: int64"
            ]
          },
          "metadata": {},
          "execution_count": 19
        }
      ]
    },
    {
      "cell_type": "code",
      "metadata": {
        "colab": {
          "base_uri": "https://localhost:8080/"
        },
        "id": "4_yAEIkasyNV",
        "outputId": "aadf3dfd-f81e-4d06-d3a9-45e65cb5e883"
      },
      "source": [
        "data['Station'].value_counts()"
      ],
      "execution_count": 20,
      "outputs": [
        {
          "output_type": "execute_result",
          "data": {
            "text/plain": [
              "Cox's Bazar     798\n",
              "Bogra           798\n",
              "Faridpur        798\n",
              "Jessore         786\n",
              "Srimangal       786\n",
              "Mymensingh      786\n",
              "Satkhira        774\n",
              "Comilla         774\n",
              "Barisal         762\n",
              "Khulna          762\n",
              "M.court         738\n",
              "Chittagong      738\n",
              "Dhaka           726\n",
              "Rangpur         702\n",
              "Dinajpur        702\n",
              "Sylhet          690\n",
              "Rangamati       666\n",
              "Ishurdi         642\n",
              "Bhola           582\n",
              "Rajshahi        582\n",
              "Sandwip         558\n",
              "Chandpur        546\n",
              "Hatiya          510\n",
              "Feni            498\n",
              "Khepupara       486\n",
              "Patuakhali      474\n",
              "Teknaf          450\n",
              "Sitakunda       450\n",
              "Madaripur       438\n",
              "Kutubdia        390\n",
              "Tangail         330\n",
              "chuadanga       306\n",
              "Mongla          282\n",
              "sydpur          282\n",
              "Ambagan(Ctg)    186\n",
              "Name: Station, dtype: int64"
            ]
          },
          "metadata": {},
          "execution_count": 20
        }
      ]
    },
    {
      "cell_type": "markdown",
      "metadata": {
        "id": "q04NbejZlE_o"
      },
      "source": [
        "All Stations have not same month of data. Every station has some rainfall record for some months"
      ]
    },
    {
      "cell_type": "markdown",
      "metadata": {
        "id": "T8jf7xj0uuQU"
      },
      "source": [
        "### Find the clean month where there is no rain"
      ]
    },
    {
      "cell_type": "code",
      "metadata": {
        "colab": {
          "base_uri": "https://localhost:8080/",
          "height": 110
        },
        "id": "qQZsohrCsyKr",
        "outputId": "06bb44af-8c6d-4229-90a4-abc469428ed5"
      },
      "source": [
        "data.sample(2)"
      ],
      "execution_count": 21,
      "outputs": [
        {
          "output_type": "execute_result",
          "data": {
            "text/html": [
              "<div>\n",
              "<style scoped>\n",
              "    .dataframe tbody tr th:only-of-type {\n",
              "        vertical-align: middle;\n",
              "    }\n",
              "\n",
              "    .dataframe tbody tr th {\n",
              "        vertical-align: top;\n",
              "    }\n",
              "\n",
              "    .dataframe thead th {\n",
              "        text-align: right;\n",
              "    }\n",
              "</style>\n",
              "<table border=\"1\" class=\"dataframe\">\n",
              "  <thead>\n",
              "    <tr style=\"text-align: right;\">\n",
              "      <th></th>\n",
              "      <th>Station</th>\n",
              "      <th>YearMonth</th>\n",
              "      <th>TotalRainfall</th>\n",
              "    </tr>\n",
              "  </thead>\n",
              "  <tbody>\n",
              "    <tr>\n",
              "      <th>18811</th>\n",
              "      <td>Satkhira</td>\n",
              "      <td>2009-8</td>\n",
              "      <td>477.0</td>\n",
              "    </tr>\n",
              "    <tr>\n",
              "      <th>19912</th>\n",
              "      <td>Jessore</td>\n",
              "      <td>2012-5</td>\n",
              "      <td>46.0</td>\n",
              "    </tr>\n",
              "  </tbody>\n",
              "</table>\n",
              "</div>"
            ],
            "text/plain": [
              "        Station YearMonth  TotalRainfall\n",
              "18811  Satkhira    2009-8          477.0\n",
              "19912   Jessore    2012-5           46.0"
            ]
          },
          "metadata": {},
          "execution_count": 21
        }
      ]
    },
    {
      "cell_type": "code",
      "metadata": {
        "colab": {
          "base_uri": "https://localhost:8080/"
        },
        "id": "k6MDg4dwsyH1",
        "outputId": "fa3bf123-596b-42a1-ce19-0876320801c7"
      },
      "source": [
        "NoRain=data[data['TotalRainfall']==0.0]\n",
        "print(NoRain.head())\n",
        "print('\\n\\n')\n",
        "print('Total number of no rain month ')\n",
        "NoRain['Station'].value_counts(0)"
      ],
      "execution_count": 22,
      "outputs": [
        {
          "output_type": "stream",
          "name": "stdout",
          "text": [
            "    Station YearMonth  TotalRainfall\n",
            "0     Bogra    1948-1            0.0\n",
            "5     Bogra    1948-6            0.0\n",
            "11    Bogra   1948-12            0.0\n",
            "12  Comilla    1948-1            0.0\n",
            "23  Comilla   1948-12            0.0\n",
            "\n",
            "\n",
            "\n",
            "Total number of no rain month \n"
          ]
        },
        {
          "output_type": "execute_result",
          "data": {
            "text/plain": [
              "Satkhira        172\n",
              "Dinajpur        172\n",
              "Cox's Bazar     163\n",
              "Khulna          159\n",
              "Mymensingh      156\n",
              "Srimangal       152\n",
              "Ishurdi         151\n",
              "M.court         147\n",
              "Bogra           146\n",
              "Faridpur        137\n",
              "Jessore         137\n",
              "Chittagong      134\n",
              "Barisal         131\n",
              "Rangpur         128\n",
              "Bhola           126\n",
              "Rangamati       126\n",
              "Comilla         126\n",
              "Dhaka           115\n",
              "Hatiya          113\n",
              "Sandwip         112\n",
              "Teknaf          107\n",
              "Chandpur        106\n",
              "Sylhet           97\n",
              "Feni             92\n",
              "Rajshahi         91\n",
              "Khepupara        90\n",
              "Patuakhali       88\n",
              "Kutubdia         87\n",
              "Sitakunda        79\n",
              "Madaripur        71\n",
              "chuadanga        52\n",
              "sydpur           51\n",
              "Tangail          51\n",
              "Mongla           39\n",
              "Ambagan(Ctg)     37\n",
              "Name: Station, dtype: int64"
            ]
          },
          "metadata": {},
          "execution_count": 22
        }
      ]
    },
    {
      "cell_type": "markdown",
      "metadata": {
        "id": "ExVVR4bqmDJj"
      },
      "source": [
        "This value shows that ,this number of value where had no rain"
      ]
    },
    {
      "cell_type": "code",
      "metadata": {
        "colab": {
          "base_uri": "https://localhost:8080/",
          "height": 684
        },
        "id": "W8xoNjlZl11c",
        "outputId": "2cc0ae23-6492-4fb5-8115-c9c4099b86f7"
      },
      "source": [
        "NoRainValue=NoRain['Station'].value_counts()\n",
        "x=list(NoRainValue.keys())\n",
        "y=list(NoRainValue.values)\n",
        "\n",
        "plt.figure(figsize=(20,10))\n",
        "sns.barplot(x=x,y=y,)\n",
        "plt.title('No rain')\n",
        "plt.xticks(rotation=90)\n",
        "plt.xlabel(\"Station\")\n",
        "plt.ylabel(\"No rain month of each station\")\n",
        "\n",
        "plt.show()"
      ],
      "execution_count": 23,
      "outputs": [
        {
          "output_type": "display_data",
          "data": {
            "image/png": "[encoded data removed]",
            "text/plain": [
              "<Figure size 1440x720 with 1 Axes>"
            ]
          },
          "metadata": {
            "needs_background": "light"
          }
        }
      ]
    },
    {
      "cell_type": "markdown",
      "metadata": {
        "id": "n9tAYMMcygH5"
      },
      "source": [
        "We saw that Satkhira and Dinajpur was less rainfall station. ON THE OTHERHAND , cTG was the most rainfall place."
      ]
    },
    {
      "cell_type": "markdown",
      "metadata": {
        "id": "k_NEMbgi0zle"
      },
      "source": [
        "### Filtering data by station name"
      ]
    },
    {
      "cell_type": "code",
      "metadata": {
        "colab": {
          "base_uri": "https://localhost:8080/"
        },
        "id": "r5s8Jk1Gxz2L",
        "outputId": "d29eff43-ad54-4a49-818f-4cf1a6904806"
      },
      "source": [
        "Mongla_df=data.groupby('Station').get_group('Mongla')\n",
        "\n",
        "print(\"max, min ,std, mean of mongla rainfall\")\n",
        "print(Mongla_df.describe())\n",
        "\n",
        "print('\\n\\n')\n",
        "print(\"Data Type\")\n",
        "Mongla_df.dtypes\n"
      ],
      "execution_count": 24,
      "outputs": [
        {
          "output_type": "stream",
          "name": "stdout",
          "text": [
            "max, min ,std, mean of mongla rainfall\n",
            "       TotalRainfall\n",
            "count     282.000000\n",
            "mean      159.000000\n",
            "std       169.476922\n",
            "min         0.000000\n",
            "25%         8.000000\n",
            "50%       107.500000\n",
            "75%       276.250000\n",
            "max      1058.000000\n",
            "\n",
            "\n",
            "\n",
            "Data Type\n"
          ]
        },
        {
          "output_type": "execute_result",
          "data": {
            "text/plain": [
              "Station           object\n",
              "YearMonth         object\n",
              "TotalRainfall    float64\n",
              "dtype: object"
            ]
          },
          "metadata": {},
          "execution_count": 24
        }
      ]
    },
    {
      "cell_type": "code",
      "metadata": {
        "colab": {
          "base_uri": "https://localhost:8080/",
          "height": 304
        },
        "id": "6FFNV7OosyEs",
        "outputId": "3b1783ca-532e-4888-ac65-dd9faf6bf17d"
      },
      "source": [
        "Mongla_df['YearMonth']=pd.to_datetime(Mongla_df['YearMonth'],)\n",
        "Mongla_df.head()"
      ],
      "execution_count": 25,
      "outputs": [
        {
          "output_type": "stream",
          "name": "stderr",
          "text": [
            "/usr/local/lib/python3.7/dist-packages/ipykernel_launcher.py:1: SettingWithCopyWarning: \n",
            "A value is trying to be set on a copy of a slice from a DataFrame.\n",
            "Try using .loc[row_indexer,col_indexer] = value instead\n",
            "\n",
            "See the caveats in the documentation: https://pandas.pydata.org/pandas-docs/stable/user_guide/indexing.html#returning-a-view-versus-a-copy\n",
            "  \"\"\"Entry point for launching an IPython kernel.\n"
          ]
        },
        {
          "output_type": "execute_result",
          "data": {
            "text/html": [
              "<div>\n",
              "<style scoped>\n",
              "    .dataframe tbody tr th:only-of-type {\n",
              "        vertical-align: middle;\n",
              "    }\n",
              "\n",
              "    .dataframe tbody tr th {\n",
              "        vertical-align: top;\n",
              "    }\n",
              "\n",
              "    .dataframe thead th {\n",
              "        text-align: right;\n",
              "    }\n",
              "</style>\n",
              "<table border=\"1\" class=\"dataframe\">\n",
              "  <thead>\n",
              "    <tr style=\"text-align: right;\">\n",
              "      <th></th>\n",
              "      <th>Station</th>\n",
              "      <th>YearMonth</th>\n",
              "      <th>TotalRainfall</th>\n",
              "    </tr>\n",
              "  </thead>\n",
              "  <tbody>\n",
              "    <tr>\n",
              "      <th>11352</th>\n",
              "      <td>Mongla</td>\n",
              "      <td>1991-01-01</td>\n",
              "      <td>29.0</td>\n",
              "    </tr>\n",
              "    <tr>\n",
              "      <th>11353</th>\n",
              "      <td>Mongla</td>\n",
              "      <td>1991-02-01</td>\n",
              "      <td>29.0</td>\n",
              "    </tr>\n",
              "    <tr>\n",
              "      <th>11354</th>\n",
              "      <td>Mongla</td>\n",
              "      <td>1991-03-01</td>\n",
              "      <td>20.0</td>\n",
              "    </tr>\n",
              "    <tr>\n",
              "      <th>11355</th>\n",
              "      <td>Mongla</td>\n",
              "      <td>1991-04-01</td>\n",
              "      <td>93.0</td>\n",
              "    </tr>\n",
              "    <tr>\n",
              "      <th>11356</th>\n",
              "      <td>Mongla</td>\n",
              "      <td>1991-05-01</td>\n",
              "      <td>90.0</td>\n",
              "    </tr>\n",
              "  </tbody>\n",
              "</table>\n",
              "</div>"
            ],
            "text/plain": [
              "      Station  YearMonth  TotalRainfall\n",
              "11352  Mongla 1991-01-01           29.0\n",
              "11353  Mongla 1991-02-01           29.0\n",
              "11354  Mongla 1991-03-01           20.0\n",
              "11355  Mongla 1991-04-01           93.0\n",
              "11356  Mongla 1991-05-01           90.0"
            ]
          },
          "metadata": {},
          "execution_count": 25
        }
      ]
    },
    {
      "cell_type": "code",
      "metadata": {
        "colab": {
          "base_uri": "https://localhost:8080/",
          "height": 513
        },
        "id": "K0IVrCEKRAyo",
        "outputId": "782db14c-6ee5-4b97-ceb3-c4aaddf5faa5"
      },
      "source": [
        "plt.figure(figsize=(20,8))\n",
        "sns.lineplot(x=Mongla_df['YearMonth'],y=Mongla_df['TotalRainfall'],)\n",
        "# plt.xlabel(list(Mongla_df['YearMonth'].values))\n",
        "plt.title('Mongla station rainfall details')\n",
        "plt.show()"
      ],
      "execution_count": 26,
      "outputs": [
        {
          "output_type": "display_data",
          "data": {
            "image/png": "[encoded data removed]",
            "text/plain": [
              "<Figure size 1440x576 with 1 Axes>"
            ]
          },
          "metadata": {
            "needs_background": "light"
          }
        }
      ]
    },
    {
      "cell_type": "code",
      "metadata": {
        "colab": {
          "base_uri": "https://localhost:8080/",
          "height": 203
        },
        "id": "m8BA1rFW_sj-",
        "outputId": "c0d18ad2-c3e9-47fa-cfe8-29133974cff1"
      },
      "source": [
        "BOGURA_DF=data[(data['Station']=='Bogra')]\n",
        "BOGURA_DF.head()"
      ],
      "execution_count": 27,
      "outputs": [
        {
          "output_type": "execute_result",
          "data": {
            "text/html": [
              "<div>\n",
              "<style scoped>\n",
              "    .dataframe tbody tr th:only-of-type {\n",
              "        vertical-align: middle;\n",
              "    }\n",
              "\n",
              "    .dataframe tbody tr th {\n",
              "        vertical-align: top;\n",
              "    }\n",
              "\n",
              "    .dataframe thead th {\n",
              "        text-align: right;\n",
              "    }\n",
              "</style>\n",
              "<table border=\"1\" class=\"dataframe\">\n",
              "  <thead>\n",
              "    <tr style=\"text-align: right;\">\n",
              "      <th></th>\n",
              "      <th>Station</th>\n",
              "      <th>YearMonth</th>\n",
              "      <th>TotalRainfall</th>\n",
              "    </tr>\n",
              "  </thead>\n",
              "  <tbody>\n",
              "    <tr>\n",
              "      <th>0</th>\n",
              "      <td>Bogra</td>\n",
              "      <td>1948-1</td>\n",
              "      <td>0.0</td>\n",
              "    </tr>\n",
              "    <tr>\n",
              "      <th>1</th>\n",
              "      <td>Bogra</td>\n",
              "      <td>1948-2</td>\n",
              "      <td>5.0</td>\n",
              "    </tr>\n",
              "    <tr>\n",
              "      <th>2</th>\n",
              "      <td>Bogra</td>\n",
              "      <td>1948-3</td>\n",
              "      <td>3.0</td>\n",
              "    </tr>\n",
              "    <tr>\n",
              "      <th>3</th>\n",
              "      <td>Bogra</td>\n",
              "      <td>1948-4</td>\n",
              "      <td>110.0</td>\n",
              "    </tr>\n",
              "    <tr>\n",
              "      <th>4</th>\n",
              "      <td>Bogra</td>\n",
              "      <td>1948-5</td>\n",
              "      <td>289.0</td>\n",
              "    </tr>\n",
              "  </tbody>\n",
              "</table>\n",
              "</div>"
            ],
            "text/plain": [
              "  Station YearMonth  TotalRainfall\n",
              "0   Bogra    1948-1            0.0\n",
              "1   Bogra    1948-2            5.0\n",
              "2   Bogra    1948-3            3.0\n",
              "3   Bogra    1948-4          110.0\n",
              "4   Bogra    1948-5          289.0"
            ]
          },
          "metadata": {},
          "execution_count": 27
        }
      ]
    },
    {
      "cell_type": "code",
      "metadata": {
        "colab": {
          "base_uri": "https://localhost:8080/",
          "height": 295
        },
        "id": "bbMo6OqeIbt9",
        "outputId": "0f4c15a4-0a4e-4428-fe15-be40e0369631"
      },
      "source": [
        "BOGURA_DF.describe()"
      ],
      "execution_count": 28,
      "outputs": [
        {
          "output_type": "execute_result",
          "data": {
            "text/html": [
              "<div>\n",
              "<style scoped>\n",
              "    .dataframe tbody tr th:only-of-type {\n",
              "        vertical-align: middle;\n",
              "    }\n",
              "\n",
              "    .dataframe tbody tr th {\n",
              "        vertical-align: top;\n",
              "    }\n",
              "\n",
              "    .dataframe thead th {\n",
              "        text-align: right;\n",
              "    }\n",
              "</style>\n",
              "<table border=\"1\" class=\"dataframe\">\n",
              "  <thead>\n",
              "    <tr style=\"text-align: right;\">\n",
              "      <th></th>\n",
              "      <th>TotalRainfall</th>\n",
              "    </tr>\n",
              "  </thead>\n",
              "  <tbody>\n",
              "    <tr>\n",
              "      <th>count</th>\n",
              "      <td>798.000000</td>\n",
              "    </tr>\n",
              "    <tr>\n",
              "      <th>mean</th>\n",
              "      <td>138.711779</td>\n",
              "    </tr>\n",
              "    <tr>\n",
              "      <th>std</th>\n",
              "      <td>163.944882</td>\n",
              "    </tr>\n",
              "    <tr>\n",
              "      <th>min</th>\n",
              "      <td>0.000000</td>\n",
              "    </tr>\n",
              "    <tr>\n",
              "      <th>25%</th>\n",
              "      <td>4.000000</td>\n",
              "    </tr>\n",
              "    <tr>\n",
              "      <th>50%</th>\n",
              "      <td>67.000000</td>\n",
              "    </tr>\n",
              "    <tr>\n",
              "      <th>75%</th>\n",
              "      <td>226.750000</td>\n",
              "    </tr>\n",
              "    <tr>\n",
              "      <th>max</th>\n",
              "      <td>874.000000</td>\n",
              "    </tr>\n",
              "  </tbody>\n",
              "</table>\n",
              "</div>"
            ],
            "text/plain": [
              "       TotalRainfall\n",
              "count     798.000000\n",
              "mean      138.711779\n",
              "std       163.944882\n",
              "min         0.000000\n",
              "25%         4.000000\n",
              "50%        67.000000\n",
              "75%       226.750000\n",
              "max       874.000000"
            ]
          },
          "metadata": {},
          "execution_count": 28
        }
      ]
    },
    {
      "cell_type": "code",
      "metadata": {
        "colab": {
          "base_uri": "https://localhost:8080/",
          "height": 496
        },
        "id": "ZOJC36eoIbqW",
        "outputId": "7ee617ab-6b66-4d44-ad0d-bf8c70ecd6a4"
      },
      "source": [
        "plt.figure(figsize=(20,8))\n",
        "sns.lineplot(x=BOGURA_DF['YearMonth'],y=BOGURA_DF['TotalRainfall'],)\n",
        "plt.title('Bogra station rainfall details')\n",
        "plt.xticks([])\n",
        "plt.show()"
      ],
      "execution_count": 36,
      "outputs": [
        {
          "output_type": "display_data",
          "data": {
            "image/png": "[encoded data removed]",
            "text/plain": [
              "<Figure size 1440x576 with 1 Axes>"
            ]
          },
          "metadata": {
            "needs_background": "light"
          }
        }
      ]
    },
    {
      "cell_type": "code",
      "metadata": {
        "id": "3gm43sWbIblZ",
        "colab": {
          "base_uri": "https://localhost:8080/",
          "height": 203
        },
        "outputId": "5be9a0c3-1158-49de-f500-4abca4f95396"
      },
      "source": [
        "data.head()"
      ],
      "execution_count": 37,
      "outputs": [
        {
          "output_type": "execute_result",
          "data": {
            "text/html": [
              "<div>\n",
              "<style scoped>\n",
              "    .dataframe tbody tr th:only-of-type {\n",
              "        vertical-align: middle;\n",
              "    }\n",
              "\n",
              "    .dataframe tbody tr th {\n",
              "        vertical-align: top;\n",
              "    }\n",
              "\n",
              "    .dataframe thead th {\n",
              "        text-align: right;\n",
              "    }\n",
              "</style>\n",
              "<table border=\"1\" class=\"dataframe\">\n",
              "  <thead>\n",
              "    <tr style=\"text-align: right;\">\n",
              "      <th></th>\n",
              "      <th>Station</th>\n",
              "      <th>YearMonth</th>\n",
              "      <th>TotalRainfall</th>\n",
              "    </tr>\n",
              "  </thead>\n",
              "  <tbody>\n",
              "    <tr>\n",
              "      <th>0</th>\n",
              "      <td>Bogra</td>\n",
              "      <td>1948-1</td>\n",
              "      <td>0.0</td>\n",
              "    </tr>\n",
              "    <tr>\n",
              "      <th>1</th>\n",
              "      <td>Bogra</td>\n",
              "      <td>1948-2</td>\n",
              "      <td>5.0</td>\n",
              "    </tr>\n",
              "    <tr>\n",
              "      <th>2</th>\n",
              "      <td>Bogra</td>\n",
              "      <td>1948-3</td>\n",
              "      <td>3.0</td>\n",
              "    </tr>\n",
              "    <tr>\n",
              "      <th>3</th>\n",
              "      <td>Bogra</td>\n",
              "      <td>1948-4</td>\n",
              "      <td>110.0</td>\n",
              "    </tr>\n",
              "    <tr>\n",
              "      <th>4</th>\n",
              "      <td>Bogra</td>\n",
              "      <td>1948-5</td>\n",
              "      <td>289.0</td>\n",
              "    </tr>\n",
              "  </tbody>\n",
              "</table>\n",
              "</div>"
            ],
            "text/plain": [
              "  Station YearMonth  TotalRainfall\n",
              "0   Bogra    1948-1            0.0\n",
              "1   Bogra    1948-2            5.0\n",
              "2   Bogra    1948-3            3.0\n",
              "3   Bogra    1948-4          110.0\n",
              "4   Bogra    1948-5          289.0"
            ]
          },
          "metadata": {},
          "execution_count": 37
        }
      ]
    },
    {
      "cell_type": "code",
      "metadata": {
        "id": "MEik1urlIbiq"
      },
      "source": [
        "# total_rain=data.groupby('Station')['TotalRainfall'].sum()\n",
        "# X=list(total_rain.keys())\n",
        "# Y=list(total_rain.values)\n",
        "\n",
        "# plt.figure(figsize=(20,10))\n",
        "# sns.set_theme(style=\"darkgrid\")\n",
        "# sns.barplot(x=X,y=Y)\n",
        "# plt.title('Total Rain Each Station')\n",
        "# plt.xticks(rotation=90)\n",
        "# plt.show()"
      ],
      "execution_count": 73,
      "outputs": []
    },
    {
      "cell_type": "code",
      "metadata": {
        "colab": {
          "base_uri": "https://localhost:8080/",
          "height": 542
        },
        "id": "dMkgEwnOJo63",
        "outputId": "4d153b35-4ee6-4f3e-9342-8f58378ca2d8"
      },
      "source": [
        "import plotly.express as px\n",
        "X=list(total_rain.keys())\n",
        "Y=list(total_rain.values)\n",
        "\n",
        "fig = px.bar(x=X, y = Y,title='Total Rain')\n",
        "fig.show()"
      ],
      "execution_count": 72,
      "outputs": [
        {
          "output_type": "display_data",
          "data": {
            "text/html": [
              "<html>\n",
              "<head><meta charset=\"utf-8\" /></head>\n",
              "<body>\n",
              "    <div>\n",
              "            <script src=\"https://cdnjs.cloudflare.com/ajax/libs/mathjax/2.7.5/MathJax.js?config=TeX-AMS-MML_SVG\"></script><script type=\"text/javascript\">if (window.MathJax) {MathJax.Hub.Config({SVG: {font: \"STIX-Web\"}});}</script>\n",
              "                <script type=\"text/javascript\">window.PlotlyConfig = {MathJaxConfig: 'local'};</script>\n",
              "        <script src=\"https://cdn.plot.ly/plotly-latest.min.js\"></script>    \n",
              "            <div id=\"1aa224c5-f8bf-4d46-aca3-e2b6b3a4f607\" class=\"plotly-graph-div\" style=\"height:525px; width:100%;\"></div>\n",
              "            <script type=\"text/javascript\">\n",
              "                \n",
              "                    window.PLOTLYENV=window.PLOTLYENV || {};\n",
              "                    \n",
              "                if (document.getElementById(\"1aa224c5-f8bf-4d46-aca3-e2b6b3a4f607\")) {\n",
              "                    Plotly.newPlot(\n",
              "                        '1aa224c5-f8bf-4d46-aca3-e2b6b3a4f607',\n",
              "                        [{\"alignmentgroup\": \"True\", \"hoverlabel\": {\"namelength\": 0}, \"hovertemplate\": \"x=%{x}<br>y=%{y}\", \"legendgroup\": \"\", \"marker\": {\"color\": \"#636efa\"}, \"name\": \"\", \"offsetgroup\": \"\", \"orientation\": \"v\", \"showlegend\": false, \"textposition\": \"auto\", \"type\": \"bar\", \"x\": [\"Ambagan(Ctg)\", \"Barisal\", \"Bhola\", \"Bogra\", \"Chandpur\", \"Chittagong\", \"Comilla\", \"Cox's Bazar\", \"Dhaka\", \"Dinajpur\", \"Faridpur\", \"Feni\", \"Hatiya\", \"Ishurdi\", \"Jessore\", \"Khepupara\", \"Khulna\", \"Kutubdia\", \"M.court\", \"Madaripur\", \"Mongla\", \"Mymensingh\", \"Patuakhali\", \"Rajshahi\", \"Rangamati\", \"Rangpur\", \"Sandwip\", \"Satkhira\", \"Sitakunda\", \"Srimangal\", \"Sylhet\", \"Tangail\", \"Teknaf\", \"chuadanga\", \"sydpur\"], \"xaxis\": \"x\", \"y\": [44871.0, 131717.0, 108190.0, 110692.0, 90889.0, 175607.0, 142535.0, 236134.0, 121777.0, 107848.0, 122535.0, 116401.0, 127360.0, 76418.0, 103233.0, 108767.0, 106404.0, 94166.0, 180330.0, 71502.0, 44838.0, 136191.0, 98225.0, 71178.0, 134488.0, 122407.0, 160469.0, 103504.0, 114289.0, 145157.0, 226426.0, 49935.0, 150146.0, 37151.0, 49518.0], \"yaxis\": \"y\"}],\n",
              "                        {\"barmode\": \"relative\", \"legend\": {\"tracegroupgap\": 0}, \"template\": {\"data\": {\"bar\": [{\"error_x\": {\"color\": \"#2a3f5f\"}, \"error_y\": {\"color\": \"#2a3f5f\"}, \"marker\": {\"line\": {\"color\": \"#E5ECF6\", \"width\": 0.5}}, \"type\": \"bar\"}], \"barpolar\": [{\"marker\": {\"line\": {\"color\": \"#E5ECF6\", \"width\": 0.5}}, \"type\": \"barpolar\"}], \"carpet\": [{\"aaxis\": {\"endlinecolor\": \"#2a3f5f\", \"gridcolor\": \"white\", \"linecolor\": \"white\", \"minorgridcolor\": \"white\", \"startlinecolor\": \"#2a3f5f\"}, \"baxis\": {\"endlinecolor\": \"#2a3f5f\", \"gridcolor\": \"white\", \"linecolor\": \"white\", \"minorgridcolor\": \"white\", \"startlinecolor\": \"#2a3f5f\"}, \"type\": \"carpet\"}], \"choropleth\": [{\"colorbar\": {\"outlinewidth\": 0, \"ticks\": \"\"}, \"type\": \"choropleth\"}], \"contour\": [{\"colorbar\": {\"outlinewidth\": 0, \"ticks\": \"\"}, \"colorscale\": [[0.0, \"#0d0887\"], [0.1111111111111111, \"#46039f\"], [0.2222222222222222, \"#7201a8\"], [0.3333333333333333, \"#9c179e\"], [0.4444444444444444, \"#bd3786\"], [0.5555555555555556, \"#d8576b\"], [0.6666666666666666, \"#ed7953\"], [0.7777777777777778, \"#fb9f3a\"], [0.8888888888888888, \"#fdca26\"], [1.0, \"#f0f921\"]], \"type\": \"contour\"}], \"contourcarpet\": [{\"colorbar\": {\"outlinewidth\": 0, \"ticks\": \"\"}, \"type\": \"contourcarpet\"}], \"heatmap\": [{\"colorbar\": {\"outlinewidth\": 0, \"ticks\": \"\"}, \"colorscale\": [[0.0, \"#0d0887\"], [0.1111111111111111, \"#46039f\"], [0.2222222222222222, \"#7201a8\"], [0.3333333333333333, \"#9c179e\"], [0.4444444444444444, \"#bd3786\"], [0.5555555555555556, \"#d8576b\"], [0.6666666666666666, \"#ed7953\"], [0.7777777777777778, \"#fb9f3a\"], [0.8888888888888888, \"#fdca26\"], [1.0, \"#f0f921\"]], \"type\": \"heatmap\"}], \"heatmapgl\": [{\"colorbar\": {\"outlinewidth\": 0, \"ticks\": \"\"}, \"colorscale\": [[0.0, \"#0d0887\"], [0.1111111111111111, \"#46039f\"], [0.2222222222222222, \"#7201a8\"], [0.3333333333333333, \"#9c179e\"], [0.4444444444444444, \"#bd3786\"], [0.5555555555555556, \"#d8576b\"], [0.6666666666666666, \"#ed7953\"], [0.7777777777777778, \"#fb9f3a\"], [0.8888888888888888, \"#fdca26\"], [1.0, \"#f0f921\"]], \"type\": \"heatmapgl\"}], \"histogram\": [{\"marker\": {\"colorbar\": {\"outlinewidth\": 0, \"ticks\": \"\"}}, \"type\": \"histogram\"}], \"histogram2d\": [{\"colorbar\": {\"outlinewidth\": 0, \"ticks\": \"\"}, \"colorscale\": [[0.0, \"#0d0887\"], [0.1111111111111111, \"#46039f\"], [0.2222222222222222, \"#7201a8\"], [0.3333333333333333, \"#9c179e\"], [0.4444444444444444, \"#bd3786\"], [0.5555555555555556, \"#d8576b\"], [0.6666666666666666, \"#ed7953\"], [0.7777777777777778, \"#fb9f3a\"], [0.8888888888888888, \"#fdca26\"], [1.0, \"#f0f921\"]], \"type\": \"histogram2d\"}], \"histogram2dcontour\": [{\"colorbar\": {\"outlinewidth\": 0, \"ticks\": \"\"}, \"colorscale\": [[0.0, \"#0d0887\"], [0.1111111111111111, \"#46039f\"], [0.2222222222222222, \"#7201a8\"], [0.3333333333333333, \"#9c179e\"], [0.4444444444444444, \"#bd3786\"], [0.5555555555555556, \"#d8576b\"], [0.6666666666666666, \"#ed7953\"], [0.7777777777777778, \"#fb9f3a\"], [0.8888888888888888, \"#fdca26\"], [1.0, \"#f0f921\"]], \"type\": \"histogram2dcontour\"}], \"mesh3d\": [{\"colorbar\": {\"outlinewidth\": 0, \"ticks\": \"\"}, \"type\": \"mesh3d\"}], \"parcoords\": [{\"line\": {\"colorbar\": {\"outlinewidth\": 0, \"ticks\": \"\"}}, \"type\": \"parcoords\"}], \"pie\": [{\"automargin\": true, \"type\": \"pie\"}], \"scatter\": [{\"marker\": {\"colorbar\": {\"outlinewidth\": 0, \"ticks\": \"\"}}, \"type\": \"scatter\"}], \"scatter3d\": [{\"line\": {\"colorbar\": {\"outlinewidth\": 0, \"ticks\": \"\"}}, \"marker\": {\"colorbar\": {\"outlinewidth\": 0, \"ticks\": \"\"}}, \"type\": \"scatter3d\"}], \"scattercarpet\": [{\"marker\": {\"colorbar\": {\"outlinewidth\": 0, \"ticks\": \"\"}}, \"type\": \"scattercarpet\"}], \"scattergeo\": [{\"marker\": {\"colorbar\": {\"outlinewidth\": 0, \"ticks\": \"\"}}, \"type\": \"scattergeo\"}], \"scattergl\": [{\"marker\": {\"colorbar\": {\"outlinewidth\": 0, \"ticks\": \"\"}}, \"type\": \"scattergl\"}], \"scattermapbox\": [{\"marker\": {\"colorbar\": {\"outlinewidth\": 0, \"ticks\": \"\"}}, \"type\": \"scattermapbox\"}], \"scatterpolar\": [{\"marker\": {\"colorbar\": {\"outlinewidth\": 0, \"ticks\": \"\"}}, \"type\": \"scatterpolar\"}], \"scatterpolargl\": [{\"marker\": {\"colorbar\": {\"outlinewidth\": 0, \"ticks\": \"\"}}, \"type\": \"scatterpolargl\"}], \"scatterternary\": [{\"marker\": {\"colorbar\": {\"outlinewidth\": 0, \"ticks\": \"\"}}, \"type\": \"scatterternary\"}], \"surface\": [{\"colorbar\": {\"outlinewidth\": 0, \"ticks\": \"\"}, \"colorscale\": [[0.0, \"#0d0887\"], [0.1111111111111111, \"#46039f\"], [0.2222222222222222, \"#7201a8\"], [0.3333333333333333, \"#9c179e\"], [0.4444444444444444, \"#bd3786\"], [0.5555555555555556, \"#d8576b\"], [0.6666666666666666, \"#ed7953\"], [0.7777777777777778, \"#fb9f3a\"], [0.8888888888888888, \"#fdca26\"], [1.0, \"#f0f921\"]], \"type\": \"surface\"}], \"table\": [{\"cells\": {\"fill\": {\"color\": \"#EBF0F8\"}, \"line\": {\"color\": \"white\"}}, \"header\": {\"fill\": {\"color\": \"#C8D4E3\"}, \"line\": {\"color\": \"white\"}}, \"type\": \"table\"}]}, \"layout\": {\"annotationdefaults\": {\"arrowcolor\": \"#2a3f5f\", \"arrowhead\": 0, \"arrowwidth\": 1}, \"coloraxis\": {\"colorbar\": {\"outlinewidth\": 0, \"ticks\": \"\"}}, \"colorscale\": {\"diverging\": [[0, \"#8e0152\"], [0.1, \"#c51b7d\"], [0.2, \"#de77ae\"], [0.3, \"#f1b6da\"], [0.4, \"#fde0ef\"], [0.5, \"#f7f7f7\"], [0.6, \"#e6f5d0\"], [0.7, \"#b8e186\"], [0.8, \"#7fbc41\"], [0.9, \"#4d9221\"], [1, \"#276419\"]], \"sequential\": [[0.0, \"#0d0887\"], [0.1111111111111111, \"#46039f\"], [0.2222222222222222, \"#7201a8\"], [0.3333333333333333, \"#9c179e\"], [0.4444444444444444, \"#bd3786\"], [0.5555555555555556, \"#d8576b\"], [0.6666666666666666, \"#ed7953\"], [0.7777777777777778, \"#fb9f3a\"], [0.8888888888888888, \"#fdca26\"], [1.0, \"#f0f921\"]], \"sequentialminus\": [[0.0, \"#0d0887\"], [0.1111111111111111, \"#46039f\"], [0.2222222222222222, \"#7201a8\"], [0.3333333333333333, \"#9c179e\"], [0.4444444444444444, \"#bd3786\"], [0.5555555555555556, \"#d8576b\"], [0.6666666666666666, \"#ed7953\"], [0.7777777777777778, \"#fb9f3a\"], [0.8888888888888888, \"#fdca26\"], [1.0, \"#f0f921\"]]}, \"colorway\": [\"#636efa\", \"#EF553B\", \"#00cc96\", \"#ab63fa\", \"#FFA15A\", \"#19d3f3\", \"#FF6692\", \"#B6E880\", \"#FF97FF\", \"#FECB52\"], \"font\": {\"color\": \"#2a3f5f\"}, \"geo\": {\"bgcolor\": \"white\", \"lakecolor\": \"white\", \"landcolor\": \"#E5ECF6\", \"showlakes\": true, \"showland\": true, \"subunitcolor\": \"white\"}, \"hoverlabel\": {\"align\": \"left\"}, \"hovermode\": \"closest\", \"mapbox\": {\"style\": \"light\"}, \"paper_bgcolor\": \"white\", \"plot_bgcolor\": \"#E5ECF6\", \"polar\": {\"angularaxis\": {\"gridcolor\": \"white\", \"linecolor\": \"white\", \"ticks\": \"\"}, \"bgcolor\": \"#E5ECF6\", \"radialaxis\": {\"gridcolor\": \"white\", \"linecolor\": \"white\", \"ticks\": \"\"}}, \"scene\": {\"xaxis\": {\"backgroundcolor\": \"#E5ECF6\", \"gridcolor\": \"white\", \"gridwidth\": 2, \"linecolor\": \"white\", \"showbackground\": true, \"ticks\": \"\", \"zerolinecolor\": \"white\"}, \"yaxis\": {\"backgroundcolor\": \"#E5ECF6\", \"gridcolor\": \"white\", \"gridwidth\": 2, \"linecolor\": \"white\", \"showbackground\": true, \"ticks\": \"\", \"zerolinecolor\": \"white\"}, \"zaxis\": {\"backgroundcolor\": \"#E5ECF6\", \"gridcolor\": \"white\", \"gridwidth\": 2, \"linecolor\": \"white\", \"showbackground\": true, \"ticks\": \"\", \"zerolinecolor\": \"white\"}}, \"shapedefaults\": {\"line\": {\"color\": \"#2a3f5f\"}}, \"ternary\": {\"aaxis\": {\"gridcolor\": \"white\", \"linecolor\": \"white\", \"ticks\": \"\"}, \"baxis\": {\"gridcolor\": \"white\", \"linecolor\": \"white\", \"ticks\": \"\"}, \"bgcolor\": \"#E5ECF6\", \"caxis\": {\"gridcolor\": \"white\", \"linecolor\": \"white\", \"ticks\": \"\"}}, \"title\": {\"x\": 0.05}, \"xaxis\": {\"automargin\": true, \"gridcolor\": \"white\", \"linecolor\": \"white\", \"ticks\": \"\", \"title\": {\"standoff\": 15}, \"zerolinecolor\": \"white\", \"zerolinewidth\": 2}, \"yaxis\": {\"automargin\": true, \"gridcolor\": \"white\", \"linecolor\": \"white\", \"ticks\": \"\", \"title\": {\"standoff\": 15}, \"zerolinecolor\": \"white\", \"zerolinewidth\": 2}}}, \"title\": {\"text\": \"Total Rain\"}, \"xaxis\": {\"anchor\": \"y\", \"domain\": [0.0, 1.0], \"title\": {\"text\": \"x\"}}, \"yaxis\": {\"anchor\": \"x\", \"domain\": [0.0, 1.0], \"title\": {\"text\": \"y\"}}},\n",
              "                        {\"responsive\": true}\n",
              "                    ).then(function(){\n",
              "                            \n",
              "var gd = document.getElementById('1aa224c5-f8bf-4d46-aca3-e2b6b3a4f607');\n",
              "var x = new MutationObserver(function (mutations, observer) {{\n",
              "        var display = window.getComputedStyle(gd).display;\n",
              "        if (!display || display === 'none') {{\n",
              "            console.log([gd, 'removed!']);\n",
              "            Plotly.purge(gd);\n",
              "            observer.disconnect();\n",
              "        }}\n",
              "}});\n",
              "\n",
              "// Listen for the removal of the full notebook cells\n",
              "var notebookContainer = gd.closest('#notebook-container');\n",
              "if (notebookContainer) {{\n",
              "    x.observe(notebookContainer, {childList: true});\n",
              "}}\n",
              "\n",
              "// Listen for the clearing of the current output cell\n",
              "var outputEl = gd.closest('.output');\n",
              "if (outputEl) {{\n",
              "    x.observe(outputEl, {childList: true});\n",
              "}}\n",
              "\n",
              "                        })\n",
              "                };\n",
              "                \n",
              "            </script>\n",
              "        </div>\n",
              "</body>\n",
              "</html>"
            ]
          },
          "metadata": {}
        }
      ]
    },
    {
      "cell_type": "code",
      "metadata": {
        "id": "2cLEmbIpUi2V"
      },
      "source": [
        ""
      ],
      "execution_count": 69,
      "outputs": []
    }
  ]
}